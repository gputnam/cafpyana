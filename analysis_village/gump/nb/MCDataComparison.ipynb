{
 "cells": [
  {
   "cell_type": "code",
   "execution_count": null,
   "id": "0",
   "metadata": {},
   "outputs": [],
   "source": [
    "%load_ext autoreload\n",
    "%autoreload 2\n",
    "\n",
    "from IPython.core.interactiveshell import InteractiveShell\n",
    "InteractiveShell.ast_node_interactivity = \"all\""
   ]
  },
  {
   "cell_type": "code",
   "execution_count": null,
   "id": "1",
   "metadata": {},
   "outputs": [],
   "source": [
    "import pandas as pd\n",
    "import numpy as np\n",
    "import matplotlib.pyplot as plt \n",
    "import matplotlib as mpl\n",
    "\n",
    "from tqdm.auto import tqdm\n",
    "\n",
    "import warnings\n",
    "warnings.simplefilter(action='ignore', category=pd.errors.PerformanceWarning)\n",
    "\n",
    "from multiprocess import Pool"
   ]
  },
  {
   "cell_type": "code",
   "execution_count": null,
   "id": "2",
   "metadata": {},
   "outputs": [],
   "source": [
    "import pyanalib.pandas_helpers as ph\n",
    "from makedf.util import *\n",
    "\n",
    "import kinematics\n",
    "import gump_cuts as gc"
   ]
  },
  {
   "cell_type": "code",
   "execution_count": null,
   "id": "3",
   "metadata": {},
   "outputs": [],
   "source": [
    "PLOTDIR = \"/Users/gputnam/Work/osc/cafpyana/plots/\"\n",
    "\n",
    "DOSAVE = True\n",
    "\n",
    "import os\n",
    "os.makedirs(PLOTDIR, exist_ok=True)\n",
    "os.makedirs(PLOTDIR + \"/png\", exist_ok=True)\n",
    "os.makedirs(PLOTDIR + \"/pdf\", exist_ok=True)"
   ]
  },
  {
   "cell_type": "code",
   "execution_count": null,
   "id": "4",
   "metadata": {},
   "outputs": [],
   "source": [
    "DETECTOR = \"SBND SPINE\""
   ]
  },
  {
   "cell_type": "code",
   "execution_count": null,
   "id": "5",
   "metadata": {},
   "outputs": [],
   "source": [
    "if DETECTOR == \"ICARUS\":\n",
    "    ONBEAM = \"/Users/gputnam/Work/osc/cafpyana/analysis_village/gump/Run2_BNB_uncalo_prescaled.df\"\n",
    "    OFFBEAM = \"/Users/gputnam/Work/osc/cafpyana/analysis_village/gump/Run2_BNBoff_uncalo_prescaled.df\"\n",
    "    \n",
    "    ONBEAMPOT = \"/Users/gputnam/Work/osc/cafpyana/analysis_village/gump/Run2_BNB_uncalo_unblind_POT.df\"\n",
    "\n",
    "elif DETECTOR == \"SBND\": \n",
    "    ONBEAM = \"/Users/gputnam/Work/osc/cafpyana/analysis_village/gump/SBND_SpringBNBData_Dev.df\"\n",
    "    OFFBEAM = \"/Users/gputnam/Work/osc/cafpyana/analysis_village/gump/SBND_SpringBNBOffData_5000.df\"\n",
    "\n",
    "elif DETECTOR == \"SBND SPINE\": \n",
    "    ONBEAM = \"/Users/gputnam/Work/osc/cafpyana/analysis_village/gump/SBND_SPINE_SpringBNBDevData.df\"\n",
    "    OFFBEAM = \"/Users/gputnam/Work/osc/cafpyana/analysis_village/gump/SBND_SPINE_SpringBNBOffData.df\""
   ]
  },
  {
   "cell_type": "code",
   "execution_count": null,
   "id": "6",
   "metadata": {},
   "outputs": [],
   "source": [
    "import h5py\n",
    "\n",
    "def read_dfs(file, key):\n",
    "    with h5py.File(file, \"r\") as f:\n",
    "        keys = [k for k in f.keys() if k.startswith(key)]\n",
    "        return pd.concat([pd.read_hdf(file, k) for k in keys])"
   ]
  },
  {
   "cell_type": "code",
   "execution_count": null,
   "id": "7",
   "metadata": {},
   "outputs": [],
   "source": [
    "if DETECTOR == \"ICARUS\":\n",
    "    ngates_ON = read_dfs(ONBEAM, \"trig\").gate_delta.sum()*(1-1/100.)\n",
    "    ngates_OFF = read_dfs(OFFBEAM, \"trig\").gate_delta.sum()*(1-1/20.)\n",
    "    \n",
    "    OFF_w = ngates_ON / ngates_OFF\n",
    "elif \"SBND\" in DETECTOR:\n",
    "    ngates_ON = read_dfs(ONBEAM, \"bnb\").shape[0]\n",
    "    ngates_OFF = read_dfs(OFFBEAM, \"hdr\").noffbeambnb.sum()\n",
    "\n",
    "    f_factor = 0.0754\n",
    "    OFF_w = (1. - f_factor) * (ngates_ON) / (ngates_OFF)\n",
    "    \n",
    "ngates_ON, ngates_OFF, OFF_w"
   ]
  },
  {
   "cell_type": "code",
   "execution_count": null,
   "id": "8",
   "metadata": {},
   "outputs": [],
   "source": [
    "if DETECTOR == \"ICARUS\":\n",
    "    print(\"ON:\", 1/read_dfs(ONBEAM, \"trig\").gate_delta.mean(), \"OFF:\", 1/read_dfs(OFFBEAM, \"trig\").gate_delta.mean())"
   ]
  },
  {
   "cell_type": "code",
   "execution_count": null,
   "id": "9",
   "metadata": {},
   "outputs": [],
   "source": [
    "if DETECTOR == \"ICARUS\":\n",
    "    # POT = pd.read_hdf(ONBEAMPOT).pot.sum()*1e12\n",
    "    POT = read_dfs(ONBEAM, \"hdr\").merge(pd.read_hdf(ONBEAMPOT), left_index=True, right_index=True, how=\"left\").pot_y.sum()*1e12\n",
    "elif \"SBND\" in DETECTOR:\n",
    "    POT = read_dfs(ONBEAM, \"bnb\").TOR875.sum()\n",
    "    \n",
    "POT"
   ]
  },
  {
   "cell_type": "code",
   "execution_count": null,
   "id": "10",
   "metadata": {},
   "outputs": [],
   "source": [
    "read_dfs(ONBEAM, \"bnb\").TOR875.sum()/ 1e19"
   ]
  },
  {
   "cell_type": "code",
   "execution_count": null,
   "id": "11",
   "metadata": {},
   "outputs": [],
   "source": [
    "print(\"N GATES ON / 5e12 POT\")\n",
    "print(5e12*ngates_ON/POT)"
   ]
  },
  {
   "cell_type": "code",
   "execution_count": null,
   "id": "12",
   "metadata": {},
   "outputs": [],
   "source": [
    "crt_ON = read_dfs(ONBEAM, \"crt\")\n",
    "crt_OFF = read_dfs(OFFBEAM, \"crt\")"
   ]
  },
  {
   "cell_type": "code",
   "execution_count": null,
   "id": "13",
   "metadata": {},
   "outputs": [],
   "source": [
    "def top_crt(crtdf):\n",
    "    return (crtdf.plane >= 30) & (crtdf.plane <= 40)\n",
    "\n",
    "def side_crt(crtdf):\n",
    "    return ~top_crt(crtdf)"
   ]
  },
  {
   "cell_type": "code",
   "execution_count": null,
   "id": "14",
   "metadata": {},
   "outputs": [],
   "source": [
    "# CRT_intime_hit_ON = crt_ON.time[top_crt(crt_ON) & (crt_ON.time > -1)].groupby(level=[0,1]).min()\n",
    "# CRT_intime_hit_OFF = crt_OFF.time[top_crt(crt_OFF) & (crt_OFF.time > -1)].groupby(level=[0,1]).min()\n",
    "\n",
    "CRT_intime_hit_ON = crt_ON.time[side_crt(crt_ON)]\n",
    "CRT_intime_hit_OFF = crt_OFF.time[side_crt(crt_OFF)]"
   ]
  },
  {
   "cell_type": "code",
   "execution_count": null,
   "id": "15",
   "metadata": {},
   "outputs": [],
   "source": [
    "bins = np.linspace(-2, 3, 51)\n",
    "# bins = np.linspace(-10, 10, 101)\n",
    "\n",
    "N,bins = np.histogram(CRT_intime_hit_ON, bins=bins)\n",
    "centers = (bins[:-1] + bins[1:]) / 2\n",
    "\n",
    "plt.errorbar(centers, N, np.sqrt(N), color=\"black\", linestyle=\"none\", marker=\".\", label=\"Beam ON\")\n",
    "\n",
    "Noff,_ = np.histogram(CRT_intime_hit_OFF, bins=bins)\n",
    "plt.errorbar(centers, Noff*OFF_w, np.sqrt(Noff)*OFF_w, color=\"red\", linestyle=\"none\", marker=\".\", label=\"Beam OFF\")\n",
    "\n",
    "plt.legend()"
   ]
  },
  {
   "cell_type": "code",
   "execution_count": null,
   "id": "16",
   "metadata": {},
   "outputs": [],
   "source": [
    "CRTLO = -1\n",
    "CRTHI = 1.8"
   ]
  },
  {
   "cell_type": "code",
   "execution_count": null,
   "id": "17",
   "metadata": {},
   "outputs": [],
   "source": [
    "if DETECTOR == \"ICARUS\":\n",
    "    FILE = \"/Users/gputnam/Work/osc/cafpyana/analysis_village/gump/ICARUS_SpringMC_Dev.df\"\n",
    "elif DETECTOR == \"SBND\":\n",
    "    FILE = \"/Users/gputnam/Work/osc/cafpyana/analysis_village/gump/SBND_SpringMC_5000.df\"\n",
    "elif DETECTOR == \"SBND SPINE\":\n",
    "    FILE = \"/Users/gputnam/Work/osc/cafpyana/analysis_village/gump/SBND_SPINE_SpringMC.df\""
   ]
  },
  {
   "cell_type": "code",
   "execution_count": null,
   "id": "18",
   "metadata": {},
   "outputs": [],
   "source": [
    "FILE"
   ]
  },
  {
   "cell_type": "code",
   "execution_count": null,
   "id": "19",
   "metadata": {},
   "outputs": [],
   "source": [
    "def load_data(file, nfiles=-1):\n",
    "    \"\"\"Load event, header, and mcnu data from HDF file.\"\"\"\n",
    "\n",
    "    if nfiles < 0:\n",
    "        with h5py.File(file, \"r\") as f:\n",
    "            nfiles = len([k for k in f.keys() if k.startswith(\"hdr\")])\n",
    "    \n",
    "    for s in range(nfiles):\n",
    "        print(\"df index:\"+str(s))\n",
    "        if \"SPINE\" not in DETECTOR:\n",
    "            df_evt = pd.read_hdf(file, \"evt_\"+str(s))\n",
    "        else:\n",
    "            df_evt = pd.read_hdf(file, \"sevt_\"+str(s))\n",
    "\n",
    "        df_hdr = pd.read_hdf(file, \"hdr_\"+str(s))\n",
    "        df_mcnu = pd.read_hdf(file, \"wgt_\"+str(s))\n",
    "\n",
    "        cols_to_drop = []\n",
    "        for c in df_mcnu.columns:\n",
    "            if (c[0] != \"GENIE\") and (c[0] != \"Flux\") and (c[0] != \"genie_mode\"):\n",
    "                cols_to_drop.append(c)\n",
    "                \n",
    "        genie_col = [c for c in df_mcnu.columns if c[0].startswith(\"GENIE\")][:50]\n",
    "        flux_col = [c for c in df_mcnu.columns if c[0].startswith(\"Flux\")][:50]\n",
    "\n",
    "        wgt_cols = []\n",
    "        for i, (f, g) in enumerate(zip(flux_col, genie_col)):\n",
    "            df_mcnu[\"WGT_univ_%i\" % i] = df_mcnu[f]*df_mcnu[g]\n",
    "            wgt_cols.append(\"WGT_univ_%i\" % i)\n",
    "\n",
    "        cols_to_drop = [c for c in df_mcnu.columns if c[0] not in wgt_cols and (c[0] != \"genie_mode\")]\n",
    "\n",
    "        df_mcnu.drop(cols_to_drop, axis=1, inplace=True)\n",
    "        matchdf = df_evt.copy()\n",
    "        matchdf.columns = pd.MultiIndex.from_tuples([(col, '') for col in matchdf.columns])\n",
    "        df_evt = ph.multicol_merge(matchdf.reset_index(), df_mcnu.reset_index(),\n",
    "                                    left_on=[(\"__ntuple\", \"\"), (\"entry\", \"\"), (\"tmatch_idx\", \"\")],\n",
    "                                    right_on=[(\"__ntuple\", \"\"), (\"entry\", \"\"), (\"rec.mc.nu..index\", \"\")],\n",
    "                                    how=\"left\") ## -- save all sllices\n",
    "\n",
    "        for column in wgt_cols:\n",
    "            df_evt[column] = df_evt[column].fillna(1)\n",
    "\n",
    "        df_evt.columns = [\"_\".join([s for s in c if s]) for c in df_evt.columns]\n",
    "\n",
    "        if s == 0:\n",
    "            res_df_evt = df_evt\n",
    "            res_df_hdr = df_hdr\n",
    "        else:\n",
    "            res_df_evt = pd.concat([res_df_evt, df_evt])\n",
    "            res_df_hdr = pd.concat([res_df_hdr, df_hdr])\n",
    "\n",
    "        del df_evt\n",
    "        del df_hdr\n",
    "\n",
    "    return res_df_evt, res_df_hdr"
   ]
  },
  {
   "cell_type": "code",
   "execution_count": null,
   "id": "20",
   "metadata": {},
   "outputs": [],
   "source": [
    "df, hdr = load_data(FILE)"
   ]
  },
  {
   "cell_type": "code",
   "execution_count": null,
   "id": "21",
   "metadata": {},
   "outputs": [],
   "source": [
    "df"
   ]
  },
  {
   "cell_type": "code",
   "execution_count": null,
   "id": "22",
   "metadata": {},
   "outputs": [],
   "source": [
    "pd.read_hdf(FILE, \"trig_0\")"
   ]
  },
  {
   "cell_type": "code",
   "execution_count": null,
   "id": "23",
   "metadata": {},
   "outputs": [],
   "source": [
    "hdr.shape[0], hdr.pot.sum(), hdr.shape[0] / (hdr.pot.sum() / 1e15)"
   ]
  },
  {
   "cell_type": "code",
   "execution_count": null,
   "id": "24",
   "metadata": {},
   "outputs": [],
   "source": [
    "NEVT_ON = read_dfs(ONBEAM, \"hdr\").shape[0]\n",
    "NEVT_OFF = read_dfs(OFFBEAM, \"hdr\").shape[0]\n",
    "\n",
    "NEVT = NEVT_ON - NEVT_OFF*OFF_w"
   ]
  },
  {
   "cell_type": "code",
   "execution_count": null,
   "id": "25",
   "metadata": {},
   "outputs": [],
   "source": [
    "NEVT_ON, POT, NEVT_ON / (POT / 1e15)"
   ]
  },
  {
   "cell_type": "code",
   "execution_count": null,
   "id": "26",
   "metadata": {},
   "outputs": [],
   "source": [
    "NEVT, POT, NEVT / (POT / 1e15)"
   ]
  },
  {
   "cell_type": "code",
   "execution_count": null,
   "id": "27",
   "metadata": {},
   "outputs": [],
   "source": [
    "def scale_pot(df, df_hdr, desired_pot):\n",
    "    \"\"\"Scale DataFrame by desired POT.\"\"\"\n",
    "    pot = sum(df_hdr.pot.tolist())\n",
    "    print(f\"POT: {pot}\\nScaling to: {desired_pot}\")\n",
    "    scale = POT / pot\n",
    "    df['glob_scale'] = scale\n",
    "    return pot, scale\n",
    "\n",
    "scale_pot(df, hdr, POT)"
   ]
  },
  {
   "cell_type": "code",
   "execution_count": null,
   "id": "28",
   "metadata": {},
   "outputs": [],
   "source": [
    "ONdf = read_dfs(ONBEAM, \"evt\" if \"SPINE\" not in DETECTOR else \"sevt\")\n",
    "OFFdf = read_dfs(OFFBEAM, \"evt\" if \"SPINE\" not in DETECTOR else \"sevt\")"
   ]
  },
  {
   "cell_type": "code",
   "execution_count": null,
   "id": "29",
   "metadata": {},
   "outputs": [],
   "source": [
    "crthit = ((crt_OFF.time > CRTLO) & (crt_OFF.time < CRTHI)).groupby(level=[0, 1]).any()\n",
    "crthit.name = \"crthit\"\n",
    "\n",
    "crthit.mean()"
   ]
  },
  {
   "cell_type": "code",
   "execution_count": null,
   "id": "30",
   "metadata": {},
   "outputs": [],
   "source": [
    "OFFdf = OFFdf.join(crthit, on=[\"__ntuple\", \"entry\"])"
   ]
  },
  {
   "cell_type": "code",
   "execution_count": null,
   "id": "31",
   "metadata": {},
   "outputs": [],
   "source": [
    "crthit = ((crt_ON.time > CRTLO) & (crt_ON.time < CRTHI)).groupby(level=[0, 1]).any()\n",
    "crthit.name = \"crthit\"\n",
    "\n",
    "crthit.mean()"
   ]
  },
  {
   "cell_type": "code",
   "execution_count": null,
   "id": "32",
   "metadata": {},
   "outputs": [],
   "source": [
    "ONdf = ONdf.join(crthit, on=[\"__ntuple\", \"entry\"])"
   ]
  },
  {
   "cell_type": "code",
   "execution_count": null,
   "id": "33",
   "metadata": {},
   "outputs": [],
   "source": [
    "crt_MC = read_dfs(FILE, \"crt\")"
   ]
  },
  {
   "cell_type": "code",
   "execution_count": null,
   "id": "34",
   "metadata": {},
   "outputs": [],
   "source": [
    "crthit = ((crt_MC.time > CRTLO) & (crt_MC.time < CRTHI)).groupby(level=[0, 1]).any()\n",
    "crthit.name = \"crthit\"\n",
    "\n",
    "crthit.mean()"
   ]
  },
  {
   "cell_type": "code",
   "execution_count": null,
   "id": "35",
   "metadata": {},
   "outputs": [],
   "source": [
    "df = df.join(crthit, on=[\"__ntuple\", \"entry\"])"
   ]
  },
  {
   "cell_type": "code",
   "execution_count": null,
   "id": "36",
   "metadata": {},
   "outputs": [],
   "source": [
    "mode_list = [0, 10, 1]\n",
    "mode_labels = ['QE', 'MEC', 'RES', 'Other $\\\\nu$', \"Cosmic\"]\n",
    "mode_colors = [\"#315031\", \"#d54c28\", \"#1e3f54\", \"#c89648\", \"#95af8b\"]\n",
    "\n",
    "def breakdown_mode(var, df):\n",
    "    \"\"\"Break down variable by interaction mode.\"\"\"\n",
    "    ret = [var[df.genie_mode == i] for i in mode_list]\n",
    "    ret.append(var[(sum([df.genie_mode == i for i in mode_list]) == 0) & ~np.isnan(df.genie_mode)])\n",
    "    ret.append(var[np.isnan(df.genie_mode)])\n",
    "    return ret"
   ]
  },
  {
   "cell_type": "code",
   "execution_count": null,
   "id": "37",
   "metadata": {},
   "outputs": [],
   "source": [
    "pdg_list = [2212, 13, 211]\n",
    "pdg_labels = [\"$p$\", \"$\\\\mu$\", \"$\\\\pi^\\\\pm$\", \"Other\"]\n",
    "pdg_colors = mode_colors[:4]\n",
    "\n",
    "def breakdown_pdg(var, df, particle=\"p\"):\n",
    "    ret = [var[np.abs(df[\"%s_true_pdg\" % particle] == i)] for i in pdg_list]\n",
    "    ret.append(var[sum([np.abs(df[\"%s_true_pdg\" % particle] == i) for i in pdg_list]) == 0])\n",
    "    return ret"
   ]
  },
  {
   "cell_type": "code",
   "execution_count": null,
   "id": "38",
   "metadata": {},
   "outputs": [],
   "source": [
    "FONTSIZE = 14\n",
    "HAWKS_COLORS = [\"#315031\", \"#d54c28\", \"#1e3f54\", \"#c89648\", \"#43140b\", \"#95af8b\"]\n",
    "\n",
    "def add_style(ax, xlabel, title=\"\", det=\"ICARUS\"):\n",
    "    ax.tick_params(axis='both', which='both', direction='in', length=6, width=1.5, labelsize=FONTSIZE, top=True, right=True)\n",
    "    for spine in ax.spines.values():\n",
    "        spine.set_linewidth(1.5)\n",
    "    ax.set_xlabel(xlabel, fontsize=FONTSIZE, fontweight='bold')\n",
    "    ax.set_ylabel('Area Normalized', fontsize=FONTSIZE, fontweight='bold')\n",
    "    ax.set_title(f\"$\\\\bf{{{det}}}$  {title}\", fontsize=FONTSIZE+2)\n",
    "    ax.legend(fontsize=FONTSIZE)\n"
   ]
  },
  {
   "cell_type": "code",
   "execution_count": null,
   "id": "39",
   "metadata": {},
   "outputs": [],
   "source": [
    "def f_cov(df, cut, var, bins=None, areanorm=False, wgts=[\"WGT\"], nuniv=50, mcwgt=None):\n",
    "    NCV,bins = np.histogram(df.loc[cut(df), var], bins=bins,\n",
    "                           weights=None if mcwgt is None else df.loc[cut(df), mcwgt])\n",
    "\n",
    "    if areanorm:\n",
    "        diff = (bins[1:] - bins[:-1])\n",
    "        norm = np.sum(NCV*diff)\n",
    "        if norm > 1e-5:\n",
    "            NCV = NCV / norm\n",
    "        \n",
    "    N_univ = []\n",
    "    for i_univ in range(nuniv):\n",
    "        wgt = np.prod([df.loc[cut(df), \"%s_univ_%i\" % (w, i_univ)] for w in wgts], axis=0)\n",
    "        if mcwgt is not None:\n",
    "            wgt = wgt * df.loc[cut(df), mcwgt]\n",
    "            \n",
    "        N = np.histogram(df.loc[cut(df), var], bins=bins, weights=wgt)[0]\n",
    "        if areanorm:\n",
    "            diff = (bins[1:] - bins[:-1])\n",
    "            norm = np.sum(N*diff)\n",
    "            if norm > 1e-5:\n",
    "                N = N / norm\n",
    "            \n",
    "        N_univ.append(N)\n",
    "\n",
    "    return NCV, np.sum([np.outer(N - NCV, N - NCV) for N in N_univ], axis=0) / nuniv"
   ]
  },
  {
   "cell_type": "code",
   "execution_count": null,
   "id": "40",
   "metadata": {},
   "outputs": [],
   "source": [
    "np.linalg.LinAlgError"
   ]
  },
  {
   "cell_type": "code",
   "execution_count": null,
   "id": "41",
   "metadata": {},
   "outputs": [],
   "source": [
    "def f_chi2(NMC, Ndata, cov):\n",
    "    # ignore singular entries\n",
    "    which_bin = NMC > 0\n",
    "\n",
    "    NMC = NMC[which_bin]\n",
    "    Ndata = Ndata[which_bin]\n",
    "    cov = cov[which_bin, :]\n",
    "    cov = cov[:, which_bin]\n",
    "\n",
    "    delta = NMC - Ndata\n",
    "    try:\n",
    "        cov_inv = np.linalg.inv(cov)\n",
    "    except np.linalg.LinAlgError as _:\n",
    "        return -1, which_bin.sum()\n",
    "        \n",
    "    return delta@cov_inv@delta, which_bin.sum()"
   ]
  },
  {
   "cell_type": "code",
   "execution_count": null,
   "id": "42",
   "metadata": {},
   "outputs": [],
   "source": [
    "def make_plot_data(var, bins, cut, mc_weight, breakdown, areanorm, breakdown_labels, breakdown_colors, xlabel, title, \n",
    "                   det=\"ICARUS\", fillna=np.nan, nsystuniv=50):\n",
    "    \n",
    "    pvars = breakdown(df.loc[cut(df), var].fillna(fillna), df[cut(df)])\n",
    "    weights = breakdown(df.loc[cut(df), mc_weight], df[cut(df)])\n",
    "\n",
    "    NMC_breakdown = []\n",
    "    for pvar, w in zip(pvars, weights):    \n",
    "        thisNMC, bins = np.histogram(pvar, bins=bins, weights=w)\n",
    "        NMC_breakdown.append(thisNMC)\n",
    "        \n",
    "    NMC,_ = np.histogram(df.loc[cut(df), var].fillna(fillna), bins=bins, weights=df.loc[cut(df), mc_weight])\n",
    "    if areanorm:\n",
    "        diff = (bins[1:] - bins[:-1])\n",
    "        norm = np.sum(NMC*diff)\n",
    "        if norm > 1e-5:\n",
    "            NMC = NMC / norm\n",
    "            for i in range(len(NMC_breakdown)):\n",
    "                NMC_breakdown[i] = NMC_breakdown[i] / norm\n",
    "\n",
    "    NMC_breakdown = np.array(NMC_breakdown)\n",
    "        \n",
    "    NON,_ = np.histogram(ONdf.loc[cut(ONdf), var].fillna(fillna), bins=bins)\n",
    "    NOff,_ = np.histogram(OFFdf.loc[cut(OFFdf), var].fillna(fillna), bins=bins)\n",
    "\n",
    "    N = NON - NOff*OFF_w\n",
    "    Nerr = np.sqrt(NON + NOff*OFF_w**2)\n",
    "    if areanorm:\n",
    "        diff = (bins[1:] - bins[:-1])\n",
    "        \n",
    "        norm = np.sum(N*diff)\n",
    "        if norm > 1e-5:\n",
    "            N = N / norm\n",
    "            Nerr = Nerr / norm\n",
    "\n",
    "    _, cov = f_cov(df, cut, var, bins=bins, areanorm=areanorm, nuniv=nsystuniv, mcwgt=mc_weight) \n",
    "    err = np.sqrt(np.diag(cov))\n",
    "\n",
    "    cov_w_stat = cov + np.diag(Nerr**2) # add stat uncertainty\n",
    "    chi2, ndof = f_chi2(NMC, N, cov_w_stat)\n",
    "\n",
    "    return {\n",
    "        \"det\": det,\n",
    "        \"title\": title,\n",
    "        \"xlabel\": xlabel,\n",
    "        \"bins\": bins,\n",
    "        \"areanorm\": areanorm,\n",
    "        \"breakdown_labels\": breakdown_labels,\n",
    "        \"breakdown_colors\": breakdown_colors,\n",
    "        \"NMC_breakdown\": NMC_breakdown,\n",
    "        \"NMC_total\": NMC,\n",
    "        \"NData\": N,\n",
    "        \"NDataErr\": Nerr,\n",
    "        \"cov\": cov,\n",
    "        \"cov_w_stat\": cov_w_stat,\n",
    "        \"chi2\": chi2,\n",
    "        \"ndof\": ndof,\n",
    "        \"POT\": POT\n",
    "    }\n"
   ]
  },
  {
   "cell_type": "code",
   "execution_count": null,
   "id": "43",
   "metadata": {},
   "outputs": [],
   "source": [
    "def ratio_plot(plt, plotdata):\n",
    "    fig, (ax0, ax1) = plt.subplots(2, 1, height_ratios=[3, 1], sharex=True)\n",
    "    bins = plotdata[\"bins\"]\n",
    "    centers = (bins[:-1] + bins[1:])/2\n",
    "\n",
    "    NMC_breakdown = plotdata[\"NMC_breakdown\"]\n",
    "    fill = np.array([centers for _ in range(NMC_breakdown.shape[0])]).T\n",
    "    ax0.hist(fill, bins=bins, stacked=True, label=plotdata[\"breakdown_labels\"],\n",
    "                    color=plotdata[\"breakdown_colors\"], weights=NMC_breakdown.T)\n",
    "\n",
    "    NData = plotdata[\"NData\"]\n",
    "    NDataErr = plotdata[\"NDataErr\"]\n",
    "    line = ax0.errorbar(centers, NData, NDataErr, color=\"black\", linestyle=\"none\", marker=\".\")\n",
    "\n",
    "    NMC = plotdata[\"NMC_total\"]\n",
    "    err = np.sqrt(np.diag(plotdata[\"cov\"]))\n",
    "    ax0.fill_between(bins[:-1], NMC+err, NMC-err, facecolor=\"none\", hatch=\"//\", edgecolor=\"gray\", linewidth=0.0, step=\"post\")\n",
    "\n",
    "    ax1.errorbar(centers, NData/NMC, NDataErr/NMC, color=\"black\", linestyle=\"none\", marker=\".\")\n",
    "    ax1.set_ylim([0.5, 1.5])\n",
    "    ax1.axhline([1], color=\"red\", linestyle=\"--\")\n",
    "    ax1.fill_between(bins[:-1], 1+err/NMC, 1-err/NMC, facecolor=\"none\", hatch=\"//\", edgecolor=\"gray\", linewidth=0.0, step=\"post\")\n",
    "\n",
    "    ax0.tick_params(axis='both', which='both', direction='in', length=6, width=1.5, labelsize=FONTSIZE, top=True, right=True)\n",
    "    ax1.tick_params(axis='both', which='both', direction='in', length=6, width=1.5, labelsize=FONTSIZE, top=True, right=True)\n",
    "    for spine in ax0.spines.values():\n",
    "        spine.set_linewidth(1.5)\n",
    "    ax1.set_xlabel(plotdata[\"xlabel\"], fontsize=FONTSIZE, fontweight='bold')\n",
    "    \n",
    "    if plotdata[\"areanorm\"]:\n",
    "        ax0.set_ylabel('Area Normalized' % (plotdata[\"POT\"]/1e19), fontsize=FONTSIZE, fontweight='bold')\n",
    "    else:\n",
    "        ax0.set_ylabel('Events / %.1f$\\\\times 10^{19}$ POT' % (plotdata[\"POT\"]/1e19), fontsize=FONTSIZE, fontweight='bold')\n",
    "\n",
    "    det = plotdata[\"det\"]\n",
    "    title = plotdata[\"title\"]\n",
    "    ax0.set_title(f\"$\\\\bf{{{det}}}$ {title}\", fontsize=FONTSIZE+2)\n",
    "    ld = ax0.legend([line], [\"Data\\n(ON Beam - OFF)\"], frameon=False, loc=\"upper left\", fontsize=10)\n",
    "\n",
    "    ax0_l0, ax0_hi = ax0.get_ylim()\n",
    "    ax0.set_ylim([ax0_l0, ax0_hi*1.2])\n",
    "    \n",
    "    ax0.legend(fontsize=12)\n",
    "    ax0.add_artist(ld)\n",
    "\n",
    "    chi2_str = \"$\\\\chi^2_\\\\mathrm{shape}$\" if plotdata[\"areanorm\"] else \"$\\\\chi^2$\"\n",
    "    ax0.text(0.5, 0.98, \"%s: %.1f / %i\" % (chi2_str, plotdata[\"chi2\"], plotdata[\"ndof\"] - int(plotdata[\"areanorm\"])),\n",
    "            verticalalignment=\"top\", horizontalalignment=\"center\", fontsize=FONTSIZE-2, transform=ax0.transAxes)\n",
    "    \n",
    "    plt.subplots_adjust(hspace=0.05)\n",
    "    "
   ]
  },
  {
   "cell_type": "code",
   "execution_count": null,
   "id": "44",
   "metadata": {},
   "outputs": [],
   "source": [
    "def FV(df):    \n",
    "    det = DETECTOR.split(\" \")[0]\n",
    "    is_spine = \"SPINE\" in DETECTOR\n",
    "    \n",
    "    ret = gc.slcfv_cut(df, det) & gc.mufv_cut(df, det) & gc.pfv_cut(df, det) \n",
    "    \n",
    "    if is_spine:\n",
    "        ret = ret & (df.is_time_contained)\n",
    "    \n",
    "    return ret\n",
    "    \n",
    "def simple_cosmic_rej(df):\n",
    "    is_spine = \"SPINE\" in DETECTOR\n",
    "    return FV(df) & (df.crlongtrkdiry > -0.3)\n",
    "\n",
    "def crtveto(df):\n",
    "    return FV(df) & ~df.crthit\n",
    "\n",
    "def twoprong_cut(df):\n",
    "    return FV(df) & np.isnan(df.other_shw_length) & np.isnan(df.other_trk_length)\n",
    "\n",
    "def pid_cut(df):\n",
    "    is_spine = \"SPINE\" in DETECTOR\n",
    "    if not is_spine:\n",
    "        return twoprong_cut(df) & gc.pid_cut_df(df)\n",
    "    else:\n",
    "        return twoprong_cut(df) & (df.prot_chi2_of_prot_cand > 0.6) & (df.mu_chi2_of_mu_cand > 0.6)\n"
   ]
  },
  {
   "cell_type": "code",
   "execution_count": null,
   "id": "45",
   "metadata": {},
   "outputs": [],
   "source": [
    "if DETECTOR == \"ICARUS\":\n",
    "    cuts = [\n",
    "        FV,\n",
    "        crtveto,\n",
    "        simple_cosmic_rej,\n",
    "        twoprong_cut,\n",
    "        pid_cut,\n",
    "    ]\n",
    "    \n",
    "    cutnames = [\n",
    "        \"Contained\",\n",
    "        \"CRT Veto\",\n",
    "        \"Simple Cos. Rej.\",\n",
    "        \"Two Prong Cut\",\n",
    "        \"PID Cut\",\n",
    "    ]\n",
    "elif DETECTOR == \"SBND SPINE\":\n",
    "    cuts = [\n",
    "        FV,\n",
    "        twoprong_cut,\n",
    "        pid_cut,\n",
    "    ]\n",
    "    \n",
    "    cutnames = [\n",
    "        \"Contained\",\n",
    "        \"Two Prong Cut\",\n",
    "        \"PID Cut\",\n",
    "    ]\n",
    "\n",
    "plotvars = [\n",
    "    \"crlongtrkdiry\",\n",
    "    \"nu_score\",\n",
    "    \"mu_chi2_of_prot_cand\",\n",
    "    \"prot_chi2_of_prot_cand\",\n",
    "    \"mu_chi2_of_mu_cand\",\n",
    "    \"prot_chi2_of_mu_cand\",  \n",
    "]\n",
    "\n",
    "if \"SPINE\" not in DETECTOR:\n",
    "    bins = [\n",
    "        np.linspace(-1,1,21),\n",
    "        np.linspace(0, 1, 21),\n",
    "        np.linspace(0, 80, 21),\n",
    "        np.linspace(0, 300, 21),\n",
    "        np.linspace(0, 80, 21),\n",
    "        np.linspace(0, 300, 21),\n",
    "    ]\n",
    "else:\n",
    "    bins = [\n",
    "        np.linspace(-1,1,21),\n",
    "        np.linspace(0, 1, 21),\n",
    "        np.linspace(0, 1, 21),\n",
    "        np.linspace(0, 1, 21),\n",
    "        np.linspace(0, 1, 21),\n",
    "        np.linspace(0, 1, 21),\n",
    "    ]\n",
    "\n",
    "labels = [\n",
    "    \"CRLongTrkDirY\",\n",
    "    \"$\\\\nu$ Score\",\n",
    "    \"Proton Cand. $\\\\mu$-like PID\",\n",
    "    \"Proton Cand. $p$-like PID\",\n",
    "    \"Muon Cand. $\\\\mu$-like PID\",\n",
    "    \"Muon Cand. $p$-like PID\",\n",
    "]"
   ]
  },
  {
   "cell_type": "code",
   "execution_count": null,
   "id": "46",
   "metadata": {},
   "outputs": [],
   "source": [
    "def inner(dat):\n",
    "    (v, b, l, cut, cutname) = dat\n",
    "    return v, make_plot_data(v, b, cut, \"glob_scale\", breakdown_mode, False, mode_labels, \n",
    "                                  mode_colors, l, cutname, fillna=-1, det=DETECTOR)"
   ]
  },
  {
   "cell_type": "code",
   "execution_count": null,
   "id": "47",
   "metadata": {},
   "outputs": [],
   "source": [
    "# all_plotdata_normed = {}\n",
    "\n",
    "\n",
    "# with Pool(10) as p:\n",
    "#     for cut, cutname in zip(cuts, cutnames):\n",
    "#         all_plotdata_normed[cutname] = {}\n",
    "#         inputs = [(v, b, l, cut, cutname) for (v, b, l) in zip(plotvars, bins, labels)]\n",
    "#         for v, plotdata in tqdm(p.imap_unordered(inner, inputs), total=len(inputs)):    \n",
    "#             all_plotdata_normed[cutname][v] = plotdata\n"
   ]
  },
  {
   "cell_type": "code",
   "execution_count": null,
   "id": "48",
   "metadata": {},
   "outputs": [],
   "source": [
    "# ifig = 0\n",
    "# for cname in cutnames:\n",
    "#     for v in plotvars:\n",
    "#         plt.figure(ifig)\n",
    "#         ratio_plot(plt, all_plotdata_normed[cname][v])\n",
    "        \n",
    "#         if DOSAVE:\n",
    "#             savename_pdf = PLOTDIR + \"/pdf/%s_%s_%s_potnorm.pdf\" % (all_plotdata_normed[cname][v][\"det\"], cname.replace(\" \", \"\").replace(\".\", \"\").lower(), v)\n",
    "#             savename_png = PLOTDIR + \"/png/%s_%s_%s_potnorm.png\" % (all_plotdata_normed[cname][v][\"det\"], cname.replace(\" \", \"\").replace(\".\", \"\").lower(), v)\n",
    "#             plt.savefig(savename_pdf, bbox_inches=\"tight\")\n",
    "#             plt.savefig(savename_png, bbox_inches=\"tight\")\n",
    "#             plt.close()\n",
    "#         else:\n",
    "#             ifig += 1"
   ]
  },
  {
   "cell_type": "code",
   "execution_count": null,
   "id": "49",
   "metadata": {},
   "outputs": [],
   "source": []
  },
  {
   "cell_type": "code",
   "execution_count": null,
   "id": "50",
   "metadata": {},
   "outputs": [],
   "source": []
  },
  {
   "cell_type": "code",
   "execution_count": null,
   "id": "51",
   "metadata": {},
   "outputs": [],
   "source": [
    "if DETECTOR == \"ICARUS\":\n",
    "    cuts = [\n",
    "        FV,\n",
    "        crtveto,\n",
    "        simple_cosmic_rej,\n",
    "        twoprong_cut,\n",
    "        pid_cut,\n",
    "    ]\n",
    "    \n",
    "    cutnames = [\n",
    "        \"Contained\",\n",
    "        \"CRT Veto\",\n",
    "        \"Simple Cos. Rej.\",\n",
    "        \"Two Prong Cut\",\n",
    "        \"PID Cut\",\n",
    "    ]\n",
    "elif DETECTOR == \"SBND SPINE\":\n",
    "    cuts = [\n",
    "        FV,\n",
    "        twoprong_cut,\n",
    "        pid_cut,\n",
    "    ]\n",
    "    \n",
    "    cutnames = [\n",
    "        \"Contained\",\n",
    "        \"Two Prong Cut\",\n",
    "        \"PID Cut\",\n",
    "    ]\n",
    "\n",
    "plotvars = [\n",
    "    \"crlongtrkdiry\",\n",
    "    \"nu_score\",\n",
    "    \"other_trk_length\",\n",
    "    \"other_shw_length\",\n",
    "    \"mu_chi2_of_prot_cand\",\n",
    "    \"prot_chi2_of_prot_cand\",\n",
    "    \"mu_chi2_of_mu_cand\",\n",
    "    \"prot_chi2_of_mu_cand\",  \n",
    "    \"del_p\",\n",
    "    \"p_len\",\n",
    "]\n",
    "\n",
    "if \"SPINE\" not in DETECTOR:\n",
    "    bins = [\n",
    "        np.linspace(-1,1,21),\n",
    "        np.linspace(0, 1, 21),\n",
    "        np.array([-5] + list(np.linspace(0, 20, 5))),\n",
    "        np.array([-10] + list(np.linspace(0, 100, 11))),\n",
    "        np.linspace(0, 80, 21),\n",
    "        np.linspace(0, 300, 21),\n",
    "        np.linspace(0, 80, 21),\n",
    "        np.linspace(0, 300, 21),\n",
    "        np.linspace(0, 1.5, 16),\n",
    "        np.linspace(0, 50, 11)\n",
    "    ]\n",
    "else:\n",
    "    bins = [\n",
    "        np.linspace(-1,1,21),\n",
    "        np.linspace(0, 1, 21),\n",
    "        np.array([-5] + list(np.linspace(0, 20, 5))),\n",
    "        np.array([-10] + list(np.linspace(0, 100, 11))),\n",
    "        np.linspace(0, 1, 21),\n",
    "        np.linspace(0, 1, 21),\n",
    "        np.linspace(0, 1, 21),\n",
    "        np.linspace(0, 1, 21),\n",
    "        # np.linspace(0, 1.5, 16),\n",
    "        np.linspace(0, 1.0, 11),\n",
    "        np.linspace(0, 50, 11)\n",
    "    ]\n",
    "\n",
    "labels = [\n",
    "    \"CRLongTrkDirY\",\n",
    "    \"$\\\\nu$ Score\",\n",
    "    \"Maximum Third Track Length [cm]\",\n",
    "    \"Maximum Shower Length [cm]\",\n",
    "    \"Proton Cand. $\\\\mu$-like PID\",\n",
    "    \"Proton Cand. $p$-like PID\",\n",
    "    \"Muon Cand. $\\\\mu$-like PID\",\n",
    "    \"Muon Cand. $p$-like PID\",\n",
    "    \"Transverse Momentum [GeV]\",\n",
    "    \"Proton Cand. Length [cm]\",\n",
    "]"
   ]
  },
  {
   "cell_type": "code",
   "execution_count": null,
   "id": "52",
   "metadata": {},
   "outputs": [],
   "source": [
    "def inner(dat):\n",
    "    (v, b, l, cut, cutname) = dat\n",
    "    return v, make_plot_data(v, b, cut, \"glob_scale\", breakdown_mode, True, mode_labels, \n",
    "                                  mode_colors, l, cutname, fillna=-1, det=DETECTOR)"
   ]
  },
  {
   "cell_type": "code",
   "execution_count": null,
   "id": "53",
   "metadata": {},
   "outputs": [],
   "source": [
    "all_plotdata = {}\n",
    "\n",
    "\n",
    "with Pool(10) as p:\n",
    "    for cut, cutname in zip(cuts, cutnames):\n",
    "        all_plotdata[cutname] = {}\n",
    "        inputs = [(v, b, l, cut, cutname) for (v, b, l) in zip(plotvars, bins, labels)]\n",
    "        for v, plotdata in tqdm(p.imap_unordered(inner, inputs), total=len(inputs)):    \n",
    "            all_plotdata[cutname][v] = plotdata\n"
   ]
  },
  {
   "cell_type": "code",
   "execution_count": null,
   "id": "54",
   "metadata": {},
   "outputs": [],
   "source": [
    "ifig = 0\n",
    "for cname in cutnames:\n",
    "    for v in plotvars:\n",
    "        plt.figure(ifig)\n",
    "        ratio_plot(plt, all_plotdata[cname][v])\n",
    "        \n",
    "        if DOSAVE:\n",
    "            savename_pdf = PLOTDIR + \"/pdf/%s_%s_%s.pdf\" % (all_plotdata[cname][v][\"det\"].replace(\" \", \"-\"), cname.replace(\" \", \"\").replace(\".\", \"\").lower(), v)\n",
    "            savename_png = PLOTDIR + \"/png/%s_%s_%s.png\" % (all_plotdata[cname][v][\"det\"].replace(\" \", \"-\"), cname.replace(\" \", \"\").replace(\".\", \"\").lower(), v)\n",
    "            plt.savefig(savename_pdf, bbox_inches=\"tight\")\n",
    "            plt.savefig(savename_png, bbox_inches=\"tight\")\n",
    "            plt.close()\n",
    "        else:\n",
    "            ifig += 1"
   ]
  },
  {
   "cell_type": "code",
   "execution_count": null,
   "id": "55",
   "metadata": {},
   "outputs": [],
   "source": []
  },
  {
   "cell_type": "code",
   "execution_count": null,
   "id": "56",
   "metadata": {},
   "outputs": [],
   "source": []
  },
  {
   "cell_type": "code",
   "execution_count": null,
   "id": "57",
   "metadata": {},
   "outputs": [],
   "source": [
    "cuts = [\n",
    "    FV,\n",
    "    simple_cosmic_rej,\n",
    "    twoprong_cut,\n",
    "    pid_cut,\n",
    "]\n",
    "\n",
    "cutnames = [\n",
    "    \"Contained\",\n",
    "    \"Simple Cos. Rej.\",\n",
    "    \"Two Prong Cut\",\n",
    "    \"PID Cut\",\n",
    "]\n",
    "\n",
    "plotvars = [\n",
    "    \"mu_chi2_of_prot_cand\",\n",
    "    \"prot_chi2_of_prot_cand\",\n",
    "    \"mu_chi2_of_mu_cand\",\n",
    "    \"prot_chi2_of_mu_cand\",  \n",
    "]\n",
    "\n",
    "bins = [\n",
    "    np.linspace(0, 80, 21),\n",
    "    np.linspace(0, 300, 21),\n",
    "    np.linspace(0, 80, 21),\n",
    "    np.linspace(0, 300, 21),\n",
    "]\n",
    "\n",
    "labels = [\n",
    "    \"Proton Cand. $\\\\chi^2_\\\\mu$\",\n",
    "    \"Proton Cand. $\\\\chi^2_p$\",\n",
    "    \"Muon Cand. $\\\\chi^2_\\\\mu$\",\n",
    "    \"Muon Cand. $\\\\chi^2_p$\",\n",
    "]"
   ]
  },
  {
   "cell_type": "code",
   "execution_count": null,
   "id": "58",
   "metadata": {},
   "outputs": [],
   "source": [
    "def inner(dat):\n",
    "    (v, b, l, cut, cutname) = dat\n",
    "    return v, make_plot_data(v, b, cut, \"glob_scale\", breakdown_pdg, True, pdg_labels, \n",
    "                                  pdg_colors, l, cutname, fillna=-1, det=DETECTOR)"
   ]
  },
  {
   "cell_type": "code",
   "execution_count": null,
   "id": "59",
   "metadata": {},
   "outputs": [],
   "source": [
    "all_plotdata_pdg = {}\n",
    "\n",
    "\n",
    "with Pool(4) as p:\n",
    "    for cut, cutname in zip(cuts, cutnames):\n",
    "        all_plotdata_pdg[cutname] = {}\n",
    "        inputs = [(v, b, l, cut, cutname) for (v, b, l) in zip(plotvars, bins, labels)]\n",
    "        for v, plotdata in tqdm(p.imap_unordered(inner, inputs), total=len(inputs)):    \n",
    "            all_plotdata_pdg[cutname][v] = plotdata\n"
   ]
  },
  {
   "cell_type": "code",
   "execution_count": null,
   "id": "60",
   "metadata": {},
   "outputs": [],
   "source": [
    "ifig = 0\n",
    "for cname in cutnames:\n",
    "    for v in plotvars:\n",
    "        plt.figure(ifig)\n",
    "        ratio_plot(plt, all_plotdata_pdg[cname][v])\n",
    "        \n",
    "        if DOSAVE:\n",
    "            savename_pdf = PLOTDIR + \"/pdf/%s_%s_%s_bkdwnpdg.pdf\" % (all_plotdata_pdg[cname][v][\"det\"], cname.replace(\" \", \"\").replace(\".\", \"\").lower(), v)\n",
    "            savename_png = PLOTDIR + \"/png/%s_%s_%s_bkdwnpdg.png\" % (all_plotdata_pdg[cname][v][\"det\"], cname.replace(\" \", \"\").replace(\".\", \"\").lower(), v)\n",
    "            plt.savefig(savename_pdf, bbox_inches=\"tight\")\n",
    "            plt.savefig(savename_png, bbox_inches=\"tight\")\n",
    "            plt.close()\n",
    "        else:\n",
    "            ifig += 1"
   ]
  },
  {
   "cell_type": "code",
   "execution_count": null,
   "id": "61",
   "metadata": {},
   "outputs": [],
   "source": []
  },
  {
   "cell_type": "code",
   "execution_count": null,
   "id": "62",
   "metadata": {},
   "outputs": [],
   "source": []
  },
  {
   "cell_type": "code",
   "execution_count": null,
   "id": "63",
   "metadata": {},
   "outputs": [],
   "source": []
  },
  {
   "cell_type": "code",
   "execution_count": null,
   "id": "64",
   "metadata": {},
   "outputs": [],
   "source": []
  }
 ],
 "metadata": {
  "kernelspec": {
   "display_name": "Python 3 (ipykernel)",
   "language": "python",
   "name": "python3"
  },
  "language_info": {
   "codemirror_mode": {
    "name": "ipython",
    "version": 3
   },
   "file_extension": ".py",
   "mimetype": "text/x-python",
   "name": "python",
   "nbconvert_exporter": "python",
   "pygments_lexer": "ipython3",
   "version": "3.13.7"
  }
 },
 "nbformat": 4,
 "nbformat_minor": 5
}
