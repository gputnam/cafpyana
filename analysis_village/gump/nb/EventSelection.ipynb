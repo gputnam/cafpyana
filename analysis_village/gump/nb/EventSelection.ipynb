{
 "cells": [
  {
   "cell_type": "code",
   "execution_count": null,
   "id": "0",
   "metadata": {},
   "outputs": [],
   "source": [
    "%load_ext autoreload\n",
    "%autoreload 2\n",
    "\n",
    "from IPython.core.interactiveshell import InteractiveShell\n",
    "InteractiveShell.ast_node_interactivity = \"all\""
   ]
  },
  {
   "cell_type": "code",
   "execution_count": null,
   "id": "1",
   "metadata": {},
   "outputs": [],
   "source": [
    "import pandas as pd\n",
    "import numpy as np\n",
    "import matplotlib.pyplot as plt \n",
    "import matplotlib as mpl\n",
    "import warnings\n",
    "warnings.simplefilter(action='ignore', category=pd.errors.PerformanceWarning)"
   ]
  },
  {
   "cell_type": "code",
   "execution_count": null,
   "id": "2",
   "metadata": {},
   "outputs": [],
   "source": [
    "import pyanalib.pandas_helpers as ph\n",
    "from makedf.util import *\n",
    "\n",
    "import kinematics\n",
    "import gump_cuts as gc"
   ]
  },
  {
   "cell_type": "code",
   "execution_count": null,
   "id": "3",
   "metadata": {},
   "outputs": [],
   "source": [
    "PLOTDIR = \"/Users/gputnam/Work/osc/cafpyana/evtsel-plots/\"\n",
    "\n",
    "DOSAVE = True\n",
    "\n",
    "import os\n",
    "os.makedirs(PLOTDIR, exist_ok=True)\n",
    "os.makedirs(PLOTDIR + \"/png\", exist_ok=True)\n",
    "os.makedirs(PLOTDIR + \"/pdf\", exist_ok=True)"
   ]
  },
  {
   "cell_type": "code",
   "execution_count": null,
   "id": "4",
   "metadata": {},
   "outputs": [],
   "source": [
    "DETECTOR = \"ICARUS\""
   ]
  },
  {
   "cell_type": "code",
   "execution_count": null,
   "id": "5",
   "metadata": {},
   "outputs": [],
   "source": [
    "DETNAME = DETECTOR.replace(\" \", \"-\")"
   ]
  },
  {
   "cell_type": "code",
   "execution_count": null,
   "id": "6",
   "metadata": {},
   "outputs": [],
   "source": [
    "if DETECTOR == \"ICARUS\":\n",
    "    FILE = \"/Users/gputnam/Work/osc/cafpyana/analysis_village/gump/ICARUS_SpringMC_Dev_slimwgt.df\"\n",
    "    OFFBEAMFILE = \"/Users/gputnam/Work/osc/cafpyana/analysis_village/gump/Run2_BNBoff_uncalo_prescaled.df\"\n",
    "elif DETECTOR == \"SBND\": \n",
    "    FILE = \"/Users/gputnam/Work/osc/cafpyana/analysis_village/gump/SBND_SpringMC_5000.df\"\n",
    "    OFFBEAMFILE = \"/Users/gputnam/Work/osc/cafpyana/analysis_village/gump/SBND_SpringBNBOffData_5000.df\"\n",
    "elif DETECTOR == \"SBND SPINE\":\n",
    "    FILE = \"/Users/gputnam/Work/osc/cafpyana/analysis_village/gump/SBND_SPINE_SpringMC.df\"\n",
    "    OFFBEAMFILE = \"/Users/gputnam/Work/osc/cafpyana/analysis_village/gump/SBND_SPINE_SpringBNBOffData.df\""
   ]
  },
  {
   "cell_type": "code",
   "execution_count": null,
   "id": "7",
   "metadata": {},
   "outputs": [],
   "source": [
    "import h5py\n",
    "\n",
    "def read_dfs(file, key):\n",
    "    with h5py.File(file, \"r\") as f:\n",
    "        keys = [k for k in f.keys() if k.startswith(key)]\n",
    "        return pd.concat([pd.read_hdf(file, k) for k in keys])"
   ]
  },
  {
   "cell_type": "code",
   "execution_count": null,
   "id": "8",
   "metadata": {},
   "outputs": [],
   "source": [
    "def load_data(file, nfiles=-1):\n",
    "    \"\"\"Load event, header, and mcnu data from HDF file.\"\"\"\n",
    "\n",
    "    if nfiles < 0:\n",
    "        with h5py.File(file, \"r\") as f:\n",
    "            nfiles = len([k for k in f.keys() if k.startswith(\"hdr\")])\n",
    "\n",
    "    for s in range(nfiles):\n",
    "        print(\"df index:\"+str(s))\n",
    "        if \"SPINE\" not in DETECTOR:\n",
    "            df_evt = pd.read_hdf(file, \"evt_\"+str(s))\n",
    "        else:\n",
    "            df_evt = pd.read_hdf(file, \"sevt_\"+str(s))\n",
    "            \n",
    "        df_hdr = pd.read_hdf(file, \"hdr_\"+str(s))\n",
    "        df_mcnu = pd.read_hdf(file, \"mcnu_\"+str(s))\n",
    "\n",
    "        matchdf = df_evt.copy()\n",
    "        matchdf.columns = pd.MultiIndex.from_tuples([(col, '') for col in matchdf.columns])\n",
    "        df_evt = ph.multicol_merge(matchdf.reset_index(), df_mcnu.reset_index(),\n",
    "                                    left_on=[(\"__ntuple\", \"\"), (\"entry\", \"\"), (\"tmatch_idx\", \"\")],\n",
    "                                    right_on=[(\"__ntuple\", \"\"), (\"entry\", \"\"), (\"rec.mc.nu..index\", \"\")],\n",
    "                                    how=\"left\") ## -- save all sllices\n",
    "\n",
    "        if s == 0:\n",
    "            res_df_evt = df_evt\n",
    "            res_df_hdr = df_hdr\n",
    "            res_df_nu = df_mcnu\n",
    "        else:\n",
    "            res_df_evt = pd.concat([res_df_evt, df_evt])\n",
    "            res_df_hdr = pd.concat([res_df_hdr, df_hdr])\n",
    "            res_df_nu = pd.concat([res_df_nu, df_mcnu])\n",
    "\n",
    "        del df_evt\n",
    "        del df_hdr\n",
    "\n",
    "    return res_df_evt, res_df_hdr, res_df_nu"
   ]
  },
  {
   "cell_type": "code",
   "execution_count": null,
   "id": "9",
   "metadata": {},
   "outputs": [],
   "source": [
    "df, hdr, mcnu = load_data(FILE)"
   ]
  },
  {
   "cell_type": "code",
   "execution_count": null,
   "id": "10",
   "metadata": {},
   "outputs": [],
   "source": [
    "hdr # .pot.groupby(level=[0, 1]).first()"
   ]
  },
  {
   "cell_type": "code",
   "execution_count": null,
   "id": "11",
   "metadata": {},
   "outputs": [],
   "source": [
    "df.columns = [c[0] for c in df.columns]\n",
    "df[\"offbeam\"] = False"
   ]
  },
  {
   "cell_type": "code",
   "execution_count": null,
   "id": "12",
   "metadata": {},
   "outputs": [],
   "source": [
    "dfOFF, _,_ = load_data(OFFBEAMFILE)"
   ]
  },
  {
   "cell_type": "code",
   "execution_count": null,
   "id": "13",
   "metadata": {},
   "outputs": [],
   "source": [
    "dfOFF.columns = [c[0] for c in dfOFF.columns]\n",
    "dfOFF[\"offbeam\"] = True"
   ]
  },
  {
   "cell_type": "code",
   "execution_count": null,
   "id": "14",
   "metadata": {},
   "outputs": [],
   "source": [
    "crtOFF = read_dfs(OFFBEAMFILE, \"crt\")"
   ]
  },
  {
   "cell_type": "code",
   "execution_count": null,
   "id": "15",
   "metadata": {},
   "outputs": [],
   "source": [
    "_ = plt.hist(crtOFF.time, bins=np.linspace(-2.5, 2.5, 51))\n",
    "\n",
    "plt.axvline([-1], color=\"red\")\n",
    "plt.axvline([1.8], color=\"red\")\n",
    "plt.title(\"Off Beam BNBMajority Data\")\n",
    "\n",
    "if DOSAVE:\n",
    "    plt.savefig(PLOTDIR + \"pdf/%s-beam_off_crt_tophat.pdf\" % DETNAME, bbox_inches=\"tight\")\n",
    "    plt.savefig(PLOTDIR + \"png/%s-beam_off_crt_tophat.png\" % DETNAME, bbox_inches=\"tight\")"
   ]
  },
  {
   "cell_type": "code",
   "execution_count": null,
   "id": "16",
   "metadata": {},
   "outputs": [],
   "source": [
    "crthit = ((crtOFF.time > -1) & (crtOFF.time < 1.8)).groupby(level=[0, 1]).any()\n",
    "crthit.name = \"crthit\"\n",
    "\n",
    "crthit.mean()\n",
    "dfOFF = dfOFF.join(crthit, on=[\"__ntuple\", \"entry\"])"
   ]
  },
  {
   "cell_type": "code",
   "execution_count": null,
   "id": "17",
   "metadata": {},
   "outputs": [],
   "source": [
    "crtMC = read_dfs(FILE, \"crt\")"
   ]
  },
  {
   "cell_type": "code",
   "execution_count": null,
   "id": "18",
   "metadata": {},
   "outputs": [],
   "source": [
    "_ = plt.hist(crtMC.time, bins=np.linspace(-2.5, 2.5, 51))\n",
    "\n",
    "plt.axvline([-1], color=\"red\")\n",
    "plt.axvline([1.8], color=\"red\")\n",
    "plt.title(\"Overlay (Off-Beam Minbias + MC)\")\n",
    "\n",
    "if DOSAVE:\n",
    "    plt.savefig(PLOTDIR + \"pdf/%s-overlay_crt_tophat.pdf\" % DETNAME, bbox_inches=\"tight\")\n",
    "    plt.savefig(PLOTDIR + \"png/%s-overlay_crt_tophat.png\" % DETNAME, bbox_inches=\"tight\")"
   ]
  },
  {
   "cell_type": "code",
   "execution_count": null,
   "id": "19",
   "metadata": {},
   "outputs": [],
   "source": [
    "crthitMC = ((crtMC.time > -1) & (crtMC.time < 1.8)).groupby(level=[0, 1]).any()\n",
    "crthitMC.name = \"crthit\"\n",
    "\n",
    "crthitMC.mean()\n",
    "\n",
    "if \"crthit\" not in df.columns:\n",
    "    df = df.join(crthitMC, on=[\"__ntuple\", \"entry\"])"
   ]
  },
  {
   "cell_type": "code",
   "execution_count": null,
   "id": "20",
   "metadata": {},
   "outputs": [],
   "source": [
    "df = pd.concat([df, dfOFF])"
   ]
  },
  {
   "cell_type": "code",
   "execution_count": null,
   "id": "21",
   "metadata": {},
   "outputs": [],
   "source": [
    "# false positive CRT hit rate\n",
    "\n",
    "crthit_test = ((crtOFF.time > -0.6 + 10) & (crtOFF.time < 1.7 + 10)).groupby(level=[0, 1]).any()\n",
    "crthit_test.name = \"crthit\"\n",
    "\n",
    "crthit_false_positive_rate = crthit_test.mean()\n",
    "crthit_false_positive_rate"
   ]
  },
  {
   "cell_type": "code",
   "execution_count": null,
   "id": "22",
   "metadata": {},
   "outputs": [],
   "source": []
  },
  {
   "cell_type": "code",
   "execution_count": null,
   "id": "23",
   "metadata": {},
   "outputs": [],
   "source": [
    "def scale_pot(df, df_hdr, desired_pot):\n",
    "    \"\"\"Scale DataFrame by desired POT.\"\"\"\n",
    "    pot = sum(df_hdr.pot.tolist())\n",
    "    print(f\"POT: {pot}\\nScaling to: {desired_pot}\")\n",
    "    scale = desired_pot / pot\n",
    "    df['glob_scale'] = scale\n",
    "    return pot, scale"
   ]
  },
  {
   "cell_type": "code",
   "execution_count": null,
   "id": "24",
   "metadata": {},
   "outputs": [],
   "source": [
    "if \"ICARUS\" in DETECTOR:\n",
    "    GOAL_POT = 5e20\n",
    "    N_GATES_ON_PER_5e12POT = 1.3886218026202426\n",
    "    ngates_OFF = read_dfs(OFFBEAMFILE, \"trig\").gate_delta.sum()*(1-1/20.)\n",
    "elif \"SBND\" in DETECTOR:\n",
    "    GOAL_POT = 1e20\n",
    "    N_GATES_ON_PER_5e12POT = 1.05104\n",
    "    ngates_OFF = read_dfs(OFFBEAMFILE, \"hdr\").noffbeambnb.sum()"
   ]
  },
  {
   "cell_type": "code",
   "execution_count": null,
   "id": "25",
   "metadata": {},
   "outputs": [],
   "source": [
    "scale_pot(df, hdr, GOAL_POT)"
   ]
  },
  {
   "cell_type": "code",
   "execution_count": null,
   "id": "26",
   "metadata": {},
   "outputs": [],
   "source": [
    "glob_scale = df['glob_scale'].to_numpy()[0]\n",
    "glob_scale"
   ]
  },
  {
   "cell_type": "code",
   "execution_count": null,
   "id": "27",
   "metadata": {},
   "outputs": [],
   "source": [
    "df.loc[df.offbeam, \"glob_scale\"] = (GOAL_POT/5e12)*(N_GATES_ON_PER_5e12POT / ngates_OFF)\n",
    "(GOAL_POT/5e12)*(N_GATES_ON_PER_5e12POT / ngates_OFF)"
   ]
  },
  {
   "cell_type": "code",
   "execution_count": null,
   "id": "28",
   "metadata": {},
   "outputs": [],
   "source": [
    "mode_list = [0, 10, 1, 2, 3]\n",
    "mode_labels = ['QE', 'MEC', 'RES', 'SIS/DIS', 'COH', \"other\"]\n",
    "\n",
    "def breakdown_mode(var, df):\n",
    "    \"\"\"Break down variable by interaction mode.\"\"\"\n",
    "    ret = [var[df.genie_mode == i] for i in mode_list]\n",
    "    ret.append(var[sum([df.genie_mode == i for i in mode_list]) == 0])\n",
    "    return ret"
   ]
  },
  {
   "cell_type": "code",
   "execution_count": null,
   "id": "29",
   "metadata": {},
   "outputs": [],
   "source": [
    "FONTSIZE = 14\n",
    "HAWKS_COLORS = [\"#315031\", \"#d54c28\", \"#1e3f54\", \"#c89648\", \"#43140b\", \"#95af8b\"]\n",
    "\n",
    "def add_style(ax, xlabel, title=\"\", det=DETECTOR):\n",
    "    ax.tick_params(axis='both', which='both', direction='in', length=6, width=1.5, labelsize=FONTSIZE, top=True, right=True)\n",
    "    for spine in ax.spines.values():\n",
    "        spine.set_linewidth(1.5)\n",
    "    ax.set_xlabel(xlabel, fontsize=FONTSIZE, fontweight='bold')\n",
    "    ax.set_ylabel('Events', fontsize=FONTSIZE, fontweight='bold')\n",
    "    det = det.replace(\" \", \"-\")\n",
    "    ax.set_title(f\"$\\\\bf{{{det}}}$  {title}\", fontsize=FONTSIZE+2)\n",
    "    ax.legend(fontsize=FONTSIZE)"
   ]
  },
  {
   "cell_type": "code",
   "execution_count": null,
   "id": "30",
   "metadata": {},
   "outputs": [],
   "source": [
    "FV = gc.slcfv_cut(df, DETECTOR.split(\" \")[0]) & gc.mufv_cut(df, DETECTOR.split(\" \")[0]) & gc.pfv_cut(df, DETECTOR.split(\" \")[0]) "
   ]
  },
  {
   "cell_type": "code",
   "execution_count": null,
   "id": "31",
   "metadata": {},
   "outputs": [],
   "source": [
    "cut = FV"
   ]
  },
  {
   "cell_type": "code",
   "execution_count": null,
   "id": "32",
   "metadata": {},
   "outputs": [],
   "source": [
    "var = \"nu_score\"\n",
    "\n",
    "pvar = breakdown_mode(df.loc[cut, var], df[cut])\n",
    "n, bins, _ = plt.hist(pvar, bins=np.linspace(0,1,21), stacked=True, label=mode_labels,\n",
    "                    color=HAWKS_COLORS, weights=[glob_scale*np.ones_like(p) for p in pvar])\n",
    "\n",
    "add_style(plt.gca(), \"$\\\\nu$ Score\", \"Contained\")\n",
    "\n",
    "if DOSAVE:\n",
    "    plt.savefig(PLOTDIR + \"pdf/%s-nu_score_contained.pdf\" % DETNAME, bbox_inches=\"tight\")\n",
    "    plt.savefig(PLOTDIR + \"png/%s-nu_score_contained.png\" % DETNAME, bbox_inches=\"tight\")"
   ]
  },
  {
   "cell_type": "code",
   "execution_count": null,
   "id": "33",
   "metadata": {},
   "outputs": [],
   "source": [
    "var = \"crlongtrkdiry\"\n",
    "\n",
    "pvar = breakdown_mode(df.loc[cut, var], df[cut])\n",
    "n, bins, _ = plt.hist(pvar, bins=np.linspace(-1,1,21), stacked=True, label=mode_labels,\n",
    "                    color=HAWKS_COLORS, weights=[glob_scale*np.ones_like(p) for p in pvar])\n",
    "\n",
    "add_style(plt.gca(), \"CRLongTrkDirY\", \"Fiducial\")\n",
    "\n",
    "if DOSAVE:\n",
    "    plt.savefig(PLOTDIR + \"pdf/%s-crlongtrkdiry_contained.pdf\" % DETNAME, bbox_inches=\"tight\")\n",
    "    plt.savefig(PLOTDIR + \"png/%s-crlongtrkdiry_contained.png\" % DETNAME, bbox_inches=\"tight\")"
   ]
  },
  {
   "cell_type": "code",
   "execution_count": null,
   "id": "34",
   "metadata": {},
   "outputs": [],
   "source": [
    "def cosmic_cut(df):\n",
    "    if \"SPINE\" not in DETECTOR:\n",
    "        return df.nu_score > 0.4\n",
    "    else:\n",
    "        return df.is_time_contained\n",
    "        \n",
    "cut = FV & cosmic_cut(df)"
   ]
  },
  {
   "cell_type": "code",
   "execution_count": null,
   "id": "35",
   "metadata": {},
   "outputs": [],
   "source": [
    "var = \"mu_len\"\n",
    "\n",
    "pvar = breakdown_mode(df.loc[cut, var], df[cut])\n",
    "n, bins, _ = plt.hist(pvar, bins=np.linspace(0, 500,21), stacked=True, label=mode_labels,\n",
    "                    color=HAWKS_COLORS, weights=[glob_scale*np.ones_like(p) for p in pvar])\n",
    "\n",
    "add_style(plt.gca(), \"Muon Length [cm]\", title=\"Cosmic Rej.\")\n",
    "\n",
    "if DOSAVE:\n",
    "    plt.savefig(PLOTDIR + \"pdf/%s-muon_length_cosmicrej.pdf\" % DETNAME, bbox_inches=\"tight\")\n",
    "    plt.savefig(PLOTDIR + \"png/%s-muon_length_cosmicrej.png\" % DETNAME, bbox_inches=\"tight\")"
   ]
  },
  {
   "cell_type": "code",
   "execution_count": null,
   "id": "36",
   "metadata": {},
   "outputs": [],
   "source": [
    "var = \"other_shw_length\"\n",
    "\n",
    "pvar = breakdown_mode(df.loc[cut, var].fillna(-1), df[cut])\n",
    "n, bins, _ = plt.hist(pvar, bins=np.array([-10] + list(np.linspace(0, 200, 21))), stacked=True, label=mode_labels,\n",
    "                    color=HAWKS_COLORS, weights=[glob_scale*np.ones_like(p) for p in pvar])\n",
    "plt.yscale(\"log\")\n",
    "add_style(plt.gca(), \"Maximum Shower Length [cm]\", title=\"Cosmic Rej.\")\n",
    "\n",
    "\n",
    "if DOSAVE:\n",
    "    plt.savefig(PLOTDIR + \"pdf/%s-shwlen_cosmicrej.pdf\" % DETNAME, bbox_inches=\"tight\")\n",
    "    plt.savefig(PLOTDIR + \"png/%s-shwlen_cosmicrej.png\" % DETNAME, bbox_inches=\"tight\")"
   ]
  },
  {
   "cell_type": "code",
   "execution_count": null,
   "id": "37",
   "metadata": {},
   "outputs": [],
   "source": [
    "var = \"other_trk_length\"\n",
    "\n",
    "pvar = breakdown_mode(df.loc[cut, var].fillna(-1), df[cut])\n",
    "n, bins, _ = plt.hist(pvar, bins=np.array([-10] + list(np.linspace(0, 200, 21))), stacked=True, label=mode_labels,\n",
    "                    color=HAWKS_COLORS, weights=[glob_scale*np.ones_like(p) for p in pvar])\n",
    "plt.yscale(\"log\")\n",
    "add_style(plt.gca(), \"Maximum Track Length [cm]\", title=\"Cosmic Rej.\")\n",
    "\n",
    "\n",
    "if DOSAVE:\n",
    "    plt.savefig(PLOTDIR + \"pdf/%s-thirdtrklen_cosmicrej.pdf\" % DETNAME, bbox_inches=\"tight\")\n",
    "    plt.savefig(PLOTDIR + \"png/%s-thirdtrklen_cosmicrej.png\" % DETNAME, bbox_inches=\"tight\")"
   ]
  },
  {
   "cell_type": "code",
   "execution_count": null,
   "id": "38",
   "metadata": {},
   "outputs": [],
   "source": [
    "def twoprong_cut(df):\n",
    "    return np.isnan(df.other_shw_length) & np.isnan(df.other_trk_length)"
   ]
  },
  {
   "cell_type": "code",
   "execution_count": null,
   "id": "39",
   "metadata": {},
   "outputs": [],
   "source": [
    "cut = FV & cosmic_cut(df) & twoprong_cut(df)"
   ]
  },
  {
   "cell_type": "code",
   "execution_count": null,
   "id": "40",
   "metadata": {},
   "outputs": [],
   "source": [
    "var = \"mu_len\"\n",
    "\n",
    "pvar = breakdown_mode(df.loc[cut, var], df[cut])\n",
    "n, bins, _ = plt.hist(pvar, bins=np.linspace(0, 500,21), stacked=True, label=mode_labels,\n",
    "                    color=HAWKS_COLORS, weights=[glob_scale*np.ones_like(p) for p in pvar])\n",
    "\n",
    "add_style(plt.gca(), \"Muon Length [cm]\", title=\"Two Prong\")\n",
    "\n",
    "\n",
    "if DOSAVE:\n",
    "    plt.savefig(PLOTDIR + \"pdf/%s-muon_length_twoprong.pdf\" % DETNAME, bbox_inches=\"tight\")\n",
    "    plt.savefig(PLOTDIR + \"png/%s-muon_length_twoprong.png\" % DETNAME, bbox_inches=\"tight\")"
   ]
  },
  {
   "cell_type": "code",
   "execution_count": null,
   "id": "41",
   "metadata": {},
   "outputs": [],
   "source": [
    "var = \"mu_chi2_of_mu_cand\"\n",
    "\n",
    "if DETECTOR == \"ICARUS\":\n",
    "    bins = np.linspace(0, 60,21)\n",
    "elif DETECTOR == \"SBND SPINE\":\n",
    "    bins = np.linspace(0, 1, 21)\n",
    "\n",
    "pvar = breakdown_mode(df.loc[cut, var], df[cut])\n",
    "n, bins, _ = plt.hist(pvar, bins=bins, stacked=True, label=mode_labels,\n",
    "                    color=HAWKS_COLORS, weights=[glob_scale*np.ones_like(p) for p in pvar])\n",
    "\n",
    "add_style(plt.gca(), \"Muon Candidate $\\\\mu$-like PID\", title=\"Two Prong\")\n",
    "\n",
    "if DOSAVE:\n",
    "    plt.savefig(PLOTDIR + \"pdf/%s-mucand_chi2u_twoprong.pdf\" % DETNAME, bbox_inches=\"tight\")\n",
    "    plt.savefig(PLOTDIR + \"png/%s-mucand_chi2u_twoprong.png\" % DETNAME, bbox_inches=\"tight\")"
   ]
  },
  {
   "cell_type": "code",
   "execution_count": null,
   "id": "42",
   "metadata": {},
   "outputs": [],
   "source": [
    "var = \"prot_chi2_of_mu_cand\"\n",
    "\n",
    "if DETECTOR == \"ICARUS\":\n",
    "    bins = np.linspace(0, 400,21)\n",
    "elif DETECTOR == \"SBND SPINE\":\n",
    "    bins = np.linspace(0, 1, 21)\n",
    "\n",
    "pvar = breakdown_mode(df.loc[cut, var], df[cut])\n",
    "n, bins, _ = plt.hist(pvar, bins=bins, stacked=True, label=mode_labels,\n",
    "                    color=HAWKS_COLORS, weights=[glob_scale*np.ones_like(p) for p in pvar])\n",
    "\n",
    "add_style(plt.gca(), \"Muon Candidate $p$-like PID\", title=\"Two Prong\")\n",
    "\n",
    "if DOSAVE:\n",
    "    plt.savefig(PLOTDIR + \"pdf/%s-mucand_chi2p_twoprong.pdf\" % DETNAME, bbox_inches=\"tight\")\n",
    "    plt.savefig(PLOTDIR + \"png/%s-mucand_chi2p_twoprong.png\" % DETNAME, bbox_inches=\"tight\")"
   ]
  },
  {
   "cell_type": "code",
   "execution_count": null,
   "id": "43",
   "metadata": {},
   "outputs": [],
   "source": [
    "var = \"mu_chi2_of_prot_cand\"\n",
    "\n",
    "if DETECTOR == \"ICARUS\":\n",
    "    bins = np.linspace(0, 60,21)\n",
    "elif DETECTOR == \"SBND SPINE\":\n",
    "    bins = np.linspace(0, 1, 21)\n",
    "\n",
    "pvar = breakdown_mode(df.loc[cut, var], df[cut])\n",
    "n, bins, _ = plt.hist(pvar, bins=bins, stacked=True, label=mode_labels,\n",
    "                    color=HAWKS_COLORS, weights=[glob_scale*np.ones_like(p) for p in pvar])\n",
    "\n",
    "add_style(plt.gca(), \"Proton Candidate $\\\\mu$-like PID\", title=\"Two Prong\")\n",
    "\n",
    "\n",
    "if DOSAVE:\n",
    "    plt.savefig(PLOTDIR + \"pdf/%s-pcand_chi2u_twoprong.pdf\" % DETNAME, bbox_inches=\"tight\")\n",
    "    plt.savefig(PLOTDIR + \"png/%s-pcand_chi2u_twoprong.png\" % DETNAME, bbox_inches=\"tight\")"
   ]
  },
  {
   "cell_type": "code",
   "execution_count": null,
   "id": "44",
   "metadata": {},
   "outputs": [],
   "source": [
    "var = \"prot_chi2_of_prot_cand\"\n",
    "\n",
    "if DETECTOR == \"ICARUS\":\n",
    "    bins = np.linspace(0, 60,21)\n",
    "elif DETECTOR == \"SBND SPINE\":\n",
    "    bins = np.linspace(0, 1, 21)\n",
    "\n",
    "pvar = breakdown_mode(df.loc[cut, var], df[cut])\n",
    "n, bins, _ = plt.hist(pvar, bins=bins, stacked=True, label=mode_labels,\n",
    "                    color=HAWKS_COLORS, weights=[glob_scale*np.ones_like(p) for p in pvar])\n",
    "\n",
    "\n",
    "add_style(plt.gca(), \"Proton Candidate $p$-like PID\", title=\"Two Prong\")\n",
    "\n",
    "\n",
    "if DOSAVE:\n",
    "    plt.savefig(PLOTDIR + \"pdf/%s-pcand_chi2p_twoprong.pdf\" % DETNAME, bbox_inches=\"tight\")\n",
    "    plt.savefig(PLOTDIR + \"png/%s-pcand_chi2p_twoprong.png\" % DETNAME, bbox_inches=\"tight\")"
   ]
  },
  {
   "cell_type": "code",
   "execution_count": null,
   "id": "45",
   "metadata": {},
   "outputs": [],
   "source": [
    "def pid_cut(df):\n",
    "    if \"SPINE\" not in DETECTOR:\n",
    "        return gc.pid_cut_df(df)\n",
    "    else:\n",
    "        return (df.prot_chi2_of_prot_cand > 0.6) & (df.mu_chi2_of_mu_cand > 0.6) & (df.mu_len > 25) & (df.p_len > 5)"
   ]
  },
  {
   "cell_type": "code",
   "execution_count": null,
   "id": "46",
   "metadata": {},
   "outputs": [],
   "source": [
    "cut = FV & cosmic_cut(df) & twoprong_cut(df) & pid_cut(df) # & (~df.crthit)\n",
    "\n",
    "# cut = FV & twoprong_cut(df) & gc.pid_cut_df(df)"
   ]
  },
  {
   "cell_type": "code",
   "execution_count": null,
   "id": "47",
   "metadata": {},
   "outputs": [],
   "source": [
    "var = \"mu_len\"\n",
    "\n",
    "pvar = breakdown_mode(df.loc[cut, var], df[cut])\n",
    "n, bins, _ = plt.hist(pvar, bins=np.linspace(0, 600, 11), stacked=True, label=mode_labels,\n",
    "                    color=HAWKS_COLORS, weights=[glob_scale*np.ones_like(p) for p in pvar])\n",
    "\n",
    "add_style(plt.gca(), \"Muon Length [cm]\", title=\"PID\")\n",
    "\n",
    "\n",
    "if DOSAVE:\n",
    "    plt.savefig(PLOTDIR + \"pdf/%s-muon_length_pid.pdf\" % DETNAME, bbox_inches=\"tight\")\n",
    "    plt.savefig(PLOTDIR + \"png/%s-muon_length_pid.png\" % DETNAME, bbox_inches=\"tight\")"
   ]
  },
  {
   "cell_type": "code",
   "execution_count": null,
   "id": "48",
   "metadata": {},
   "outputs": [],
   "source": [
    "var = \"mu_len\"\n",
    "\n",
    "pvar = breakdown_mode(df.loc[cut, var], df[cut])\n",
    "n, bins, _ = plt.hist(pvar, bins=np.linspace(0, 200, 11), stacked=True, label=mode_labels,\n",
    "                    color=HAWKS_COLORS, weights=[glob_scale*np.ones_like(p) for p in pvar])\n",
    "\n",
    "add_style(plt.gca(), \"Muon Length [cm]\", title=\"PID\")\n",
    "\n",
    "\n",
    "if DOSAVE:\n",
    "    plt.savefig(PLOTDIR + \"pdf/%s-muon_length_zoom_pid.pdf\" % DETNAME, bbox_inches=\"tight\")\n",
    "    plt.savefig(PLOTDIR + \"png/%s-muon_length_zoom_pid.png\" % DETNAME, bbox_inches=\"tight\")"
   ]
  },
  {
   "cell_type": "code",
   "execution_count": null,
   "id": "49",
   "metadata": {},
   "outputs": [],
   "source": [
    "var = \"p_len\"\n",
    "\n",
    "pvar = breakdown_mode(df.loc[cut, var], df[cut])\n",
    "n, bins, _ = plt.hist(pvar, bins=np.linspace(0, 50, 11), stacked=True, label=mode_labels,\n",
    "                    color=HAWKS_COLORS, weights=[glob_scale*np.ones_like(p) for p in pvar])\n",
    "\n",
    "add_style(plt.gca(), \"Proton Length [cm]\", title=\"PID\")\n",
    "\n",
    "if DOSAVE:\n",
    "    plt.savefig(PLOTDIR + \"pdf/%s-proton_length_pid.pdf\" % DETNAME, bbox_inches=\"tight\")\n",
    "    plt.savefig(PLOTDIR + \"png/%s-proton_length_pid.png\" % DETNAME, bbox_inches=\"tight\")"
   ]
  },
  {
   "cell_type": "code",
   "execution_count": null,
   "id": "50",
   "metadata": {},
   "outputs": [],
   "source": [
    "var = \"del_p\"\n",
    "\n",
    "pvar = breakdown_mode(df.loc[cut, var], df[cut])\n",
    "n, bins, _ = plt.hist(pvar, bins=np.linspace(0, 1, 11), stacked=True, label=mode_labels,\n",
    "                    color=HAWKS_COLORS, weights=[glob_scale*np.ones_like(p) for p in pvar])\n",
    "\n",
    "add_style(plt.gca(), \"$\\\\delta p$ [GeV]\", title=\"PID\")\n",
    "\n",
    "\n",
    "if DOSAVE:\n",
    "    plt.savefig(PLOTDIR + \"pdf/%s-delp_pid.pdf\" % DETNAME, bbox_inches=\"tight\")\n",
    "    plt.savefig(PLOTDIR + \"png/%s-delp_pid.png\" % DETNAME, bbox_inches=\"tight\")"
   ]
  },
  {
   "cell_type": "code",
   "execution_count": null,
   "id": "51",
   "metadata": {},
   "outputs": [],
   "source": [
    "var = \"nu_E_calo\"\n",
    "\n",
    "pvar = breakdown_mode(df.loc[cut, var], df[cut])\n",
    "n, bins, _ = plt.hist(pvar, bins=np.linspace(0, 2, 16), stacked=True, label=mode_labels,\n",
    "                    color=HAWKS_COLORS, weights=[glob_scale*np.ones_like(p) for p in pvar])\n",
    "\n",
    "add_style(plt.gca(), \"$E_\\\\nu^\\\\mathrm{calo}$ [GeV]\", title=\"PID\")\n",
    "\n",
    "if DOSAVE:\n",
    "    plt.savefig(PLOTDIR + \"pdf/%s-ecalo_pid.pdf\" % DETNAME, bbox_inches=\"tight\")\n",
    "    plt.savefig(PLOTDIR + \"png/%s-ecalo_pid.png\" % DETNAME, bbox_inches=\"tight\")"
   ]
  },
  {
   "cell_type": "code",
   "execution_count": null,
   "id": "52",
   "metadata": {},
   "outputs": [],
   "source": [
    "if \"ICARUS\" in DETECTOR:\n",
    "    cut = FV & cosmic_cut(df) & twoprong_cut(df) & pid_cut(df) & (~df.crthit)"
   ]
  },
  {
   "cell_type": "code",
   "execution_count": null,
   "id": "53",
   "metadata": {},
   "outputs": [],
   "source": [
    "var = \"del_p\"\n",
    "\n",
    "pvar = breakdown_mode(df.loc[cut, var], df[cut])\n",
    "n, bins, _ = plt.hist(pvar, bins=np.linspace(0, 1, 11), stacked=True, label=mode_labels,\n",
    "                    color=HAWKS_COLORS, weights=[glob_scale*np.ones_like(p) for p in pvar])\n",
    "\n",
    "add_style(plt.gca(), \"$\\\\delta p$ [GeV]\", title=\"PID + CRT Hit Veto\")\n",
    "\n",
    "\n",
    "if DOSAVE:\n",
    "    plt.savefig(PLOTDIR + \"pdf/%s-delp_crthitveto.pdf\" % DETNAME, bbox_inches=\"tight\")\n",
    "    plt.savefig(PLOTDIR + \"png/%s-delp_crthitveto.png\" % DETNAME, bbox_inches=\"tight\")"
   ]
  },
  {
   "cell_type": "code",
   "execution_count": null,
   "id": "54",
   "metadata": {},
   "outputs": [],
   "source": [
    "cut = FV & cosmic_cut(df) & twoprong_cut(df) & pid_cut(df) & (df.del_p < 0.25) # & (~df.crthit)"
   ]
  },
  {
   "cell_type": "code",
   "execution_count": null,
   "id": "55",
   "metadata": {},
   "outputs": [],
   "source": [
    "var = \"nu_E_calo\"\n",
    "\n",
    "pvar = breakdown_mode(df.loc[cut, var], df[cut])\n",
    "n, bins, _ = plt.hist(pvar, bins=np.linspace(0, 2, 16), stacked=True, label=mode_labels,\n",
    "                    color=HAWKS_COLORS, weights=[glob_scale*np.ones_like(p) for p in pvar])\n",
    "\n",
    "add_style(plt.gca(), \"$E_\\\\nu^\\\\mathrm{calo}$ [GeV]\", title=\"PID + $\\\\delta_p < 0.25$ GeV\")\n",
    "\n",
    "\n",
    "if DOSAVE:\n",
    "    plt.savefig(PLOTDIR + \"pdf/%s-ecalo_lowdelp.pdf\" % DETNAME, bbox_inches=\"tight\")\n",
    "    plt.savefig(PLOTDIR + \"png/%s-ecalo_lowdelp.png\" % DETNAME, bbox_inches=\"tight\")"
   ]
  },
  {
   "cell_type": "code",
   "execution_count": null,
   "id": "56",
   "metadata": {},
   "outputs": [],
   "source": [
    "var = \"p_len\"\n",
    "\n",
    "pvar = breakdown_mode(df.loc[cut, var], df[cut])\n",
    "n, bins, _ = plt.hist(pvar, bins=np.linspace(0, 100, 11), stacked=True, label=mode_labels,\n",
    "                    color=HAWKS_COLORS, weights=[glob_scale*np.ones_like(p) for p in pvar])\n",
    "\n",
    "add_style(plt.gca(), \"Proton Length\", title=\"PID + $\\\\delta_p < 0.25$ GeV\")\n",
    "\n",
    "\n",
    "if DOSAVE:\n",
    "    plt.savefig(PLOTDIR + \"pdf/%s-proton_length_lowdelp.pdf\" % DETNAME, bbox_inches=\"tight\")\n",
    "    plt.savefig(PLOTDIR + \"png/%s-proton_length_lowdelp.png\" % DETNAME, bbox_inches=\"tight\")"
   ]
  },
  {
   "cell_type": "code",
   "execution_count": null,
   "id": "57",
   "metadata": {},
   "outputs": [],
   "source": [
    "cut = FV & cosmic_cut(df) & twoprong_cut(df) & ~np.isnan(df.genie_mode)"
   ]
  },
  {
   "cell_type": "code",
   "execution_count": null,
   "id": "58",
   "metadata": {},
   "outputs": [],
   "source": [
    "df.columns"
   ]
  },
  {
   "cell_type": "code",
   "execution_count": null,
   "id": "59",
   "metadata": {},
   "outputs": [],
   "source": [
    "var = \"mu_chi2_of_prot_cand\"\n",
    "\n",
    "if DETECTOR == \"ICARUS\":\n",
    "    bins = np.linspace(0, 100,21)\n",
    "elif DETECTOR == \"SBND SPINE\":\n",
    "    bins = np.linspace(0, 1, 21)\n",
    "\n",
    "n, bins, _ = plt.hist(df.loc[cut, var], bins=bins, stacked=True, label=\"CV\",\n",
    "                    color=\"tab:blue\", weights=df.loc[cut, \"glob_scale\"], histtype=\"step\", linewidth=3)\n",
    "\n",
    "n, bins, _ = plt.hist(df.loc[cut, var.replace(\"chi2\", \"chi2smear\")], bins=bins, stacked=True, label=\"Smear +5%\",\n",
    "                    color=\"tab:orange\", weights=df.loc[cut, \"glob_scale\"], histtype=\"step\", linewidth=3)\n",
    "\n",
    "n, bins, _ = plt.hist(df.loc[cut, var.replace(\"chi2\", \"chi2hi\")], bins=bins, stacked=True, label=\"Gain +1%\",\n",
    "                    color=\"tab:green\", weights=df.loc[cut, \"glob_scale\"], histtype=\"step\", linewidth=3)\n",
    "\n",
    "add_style(plt.gca(), \"Proton Candidate $\\\\mu$-like PID\", title=\"Two Prong, $\\\\nu$-Only\")\n",
    "\n",
    "\n",
    "# if DOSAVE:\n",
    "    # plt.savefig(PLOTDIR + \"pdf/%s-pcand_chi2u_twoprong.pdf\" % DETNAME, bbox_inches=\"tight\")\n",
    "    # plt.savefig(PLOTDIR + \"png/%s-pcand_chi2u_twoprong.png\" % DETNAME, bbox_inches=\"tight\")"
   ]
  },
  {
   "cell_type": "code",
   "execution_count": null,
   "id": "60",
   "metadata": {},
   "outputs": [],
   "source": []
  },
  {
   "cell_type": "code",
   "execution_count": null,
   "id": "61",
   "metadata": {},
   "outputs": [],
   "source": [
    "df.columns"
   ]
  },
  {
   "cell_type": "code",
   "execution_count": null,
   "id": "62",
   "metadata": {},
   "outputs": [],
   "source": [
    "df.genie_mode"
   ]
  },
  {
   "cell_type": "code",
   "execution_count": null,
   "id": "63",
   "metadata": {},
   "outputs": [],
   "source": []
  },
  {
   "cell_type": "code",
   "execution_count": null,
   "id": "64",
   "metadata": {},
   "outputs": [],
   "source": []
  },
  {
   "cell_type": "code",
   "execution_count": null,
   "id": "65",
   "metadata": {},
   "outputs": [],
   "source": []
  },
  {
   "cell_type": "code",
   "execution_count": null,
   "id": "66",
   "metadata": {},
   "outputs": [],
   "source": []
  },
  {
   "cell_type": "code",
   "execution_count": null,
   "id": "67",
   "metadata": {},
   "outputs": [],
   "source": []
  }
 ],
 "metadata": {
  "kernelspec": {
   "display_name": "Python 3 (ipykernel)",
   "language": "python",
   "name": "python3"
  },
  "language_info": {
   "codemirror_mode": {
    "name": "ipython",
    "version": 3
   },
   "file_extension": ".py",
   "mimetype": "text/x-python",
   "name": "python",
   "nbconvert_exporter": "python",
   "pygments_lexer": "ipython3",
   "version": "3.13.7"
  }
 },
 "nbformat": 4,
 "nbformat_minor": 5
}
